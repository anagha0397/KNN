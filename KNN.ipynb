{
 "cells": [
  {
   "cell_type": "code",
   "execution_count": 1,
   "id": "bdf50de9",
   "metadata": {},
   "outputs": [],
   "source": [
    "from pandas import read_csv\n",
    "import numpy as np \n",
    "from sklearn.model_selection import KFold\n",
    "from sklearn.model_selection import cross_val_score\n",
    "from sklearn.neighbors import KNeighborsClassifier"
   ]
  },
  {
   "cell_type": "code",
   "execution_count": 5,
   "id": "45e340dc",
   "metadata": {},
   "outputs": [],
   "source": [
    "filename = 'pima-indians-diabetes.data.csv'\n",
    "names = ['preg', 'plas', 'pres', 'skin', 'test', 'mass', 'pedi', 'age', 'class']\n",
    "dataframe = read_csv(filename,names = names)\n",
    "array = dataframe.values\n",
    "\n",
    "x = array[: , 0:8]\n",
    "y = array[: , 8]"
   ]
  },
  {
   "cell_type": "code",
   "execution_count": 6,
   "id": "2ec79a06",
   "metadata": {},
   "outputs": [],
   "source": [
    "# calling kfold method \n",
    "\n",
    "num_fold = 10\n",
    "kfold = KFold(n_splits = num_fold)"
   ]
  },
  {
   "cell_type": "code",
   "execution_count": 8,
   "id": "84c61fd3",
   "metadata": {},
   "outputs": [],
   "source": [
    "model = KNeighborsClassifier(n_neighbors = 14)\n",
    "results = cross_val_score(model, x, y, cv = kfold)"
   ]
  },
  {
   "cell_type": "code",
   "execution_count": 11,
   "id": "184fd54e",
   "metadata": {},
   "outputs": [
    {
     "name": "stdout",
     "output_type": "stream",
     "text": [
      "0.7564764183185235\n"
     ]
    }
   ],
   "source": [
    "print(results.mean())"
   ]
  },
  {
   "cell_type": "code",
   "execution_count": null,
   "id": "54ff34a8",
   "metadata": {},
   "outputs": [],
   "source": [
    "### Grid Search Algorithm"
   ]
  },
  {
   "cell_type": "markdown",
   "id": "2c7d68e7",
   "metadata": {},
   "source": [
    "#### The question is why we have used k = 14 only?\n",
    "\n",
    "Whenever we are required to tune the hyper parameters in that case we use grid search cross validation algorithm, this GSA will calculate the accuracies and based on the scores of accuracies this GSA will provide us the best kvalue to be choosen, in short whenever we are required to pass hyper parameters for any algorithm we will use GSA"
   ]
  },
  {
   "cell_type": "code",
   "execution_count": 16,
   "id": "89e8d3c6",
   "metadata": {},
   "outputs": [],
   "source": [
    "from pandas import read_csv\n",
    "import numpy as np \n",
    "from sklearn.model_selection import KFold\n",
    "from sklearn.model_selection import GridSearchCV\n",
    "from sklearn.neighbors import KNeighborsClassifier    "
   ]
  },
  {
   "cell_type": "code",
   "execution_count": 17,
   "id": "b2b33676",
   "metadata": {},
   "outputs": [],
   "source": [
    "filename = 'pima-indians-diabetes.data.csv'\n",
    "names = ['preg', 'plas', 'pres', 'skin', 'test', 'mass', 'pedi', 'age', 'class']\n",
    "dataframe = read_csv(filename,names = names)\n",
    "array = dataframe.values\n",
    "\n",
    "x = array[: , 0:8]\n",
    "y = array[: , 8]"
   ]
  },
  {
   "cell_type": "code",
   "execution_count": 22,
   "id": "e1b2df1f",
   "metadata": {},
   "outputs": [],
   "source": [
    "neighbors = np.array(range(1,40))\n",
    "param_grid = dict(n_neighbors = neighbors)"
   ]
  },
  {
   "cell_type": "code",
   "execution_count": 23,
   "id": "6d260dbd",
   "metadata": {},
   "outputs": [
    {
     "data": {
      "text/plain": [
       "GridSearchCV(estimator=KNeighborsClassifier(),\n",
       "             param_grid={'n_neighbors': array([ 1,  2,  3,  4,  5,  6,  7,  8,  9, 10, 11, 12, 13, 14, 15, 16, 17,\n",
       "       18, 19, 20, 21, 22, 23, 24, 25, 26, 27, 28, 29, 30, 31, 32, 33, 34,\n",
       "       35, 36, 37, 38, 39])})"
      ]
     },
     "execution_count": 23,
     "metadata": {},
     "output_type": "execute_result"
    }
   ],
   "source": [
    "model_grid = KNeighborsClassifier()\n",
    "grid = GridSearchCV(estimator = model_grid, param_grid = param_grid)\n",
    "grid.fit(x,y)"
   ]
  },
  {
   "cell_type": "code",
   "execution_count": 26,
   "id": "ff433d04",
   "metadata": {},
   "outputs": [
    {
     "name": "stdout",
     "output_type": "stream",
     "text": [
      "0.7578558696205755\n",
      "{'n_neighbors': 14}\n"
     ]
    }
   ],
   "source": [
    "# Identifying the best score\n",
    "\n",
    "print(grid.best_score_)\n",
    "print(grid.best_params_)"
   ]
  },
  {
   "cell_type": "markdown",
   "id": "b73c42d7",
   "metadata": {},
   "source": [
    "from this we came to know that best value will be 14"
   ]
  },
  {
   "cell_type": "markdown",
   "id": "fdf14364",
   "metadata": {},
   "source": [
    "#### Visualizing the CV results"
   ]
  },
  {
   "cell_type": "code",
   "execution_count": 28,
   "id": "95f32751",
   "metadata": {},
   "outputs": [],
   "source": [
    "import matplotlib.pyplot as plt\n",
    "%matplotlib inline"
   ]
  },
  {
   "cell_type": "code",
   "execution_count": 29,
   "id": "3173ffe8",
   "metadata": {},
   "outputs": [],
   "source": [
    "# for the getting of k between a range of 1 to 40 we will define a range"
   ]
  },
  {
   "cell_type": "code",
   "execution_count": 31,
   "id": "0338e930",
   "metadata": {},
   "outputs": [
    {
     "data": {
      "text/plain": [
       "Text(0, 0.5, 'Cross validated accuracy')"
      ]
     },
     "execution_count": 31,
     "metadata": {},
     "output_type": "execute_result"
    },
    {
     "data": {
      "image/png": "[encoded data removed]",
      "text/plain": [
       "<Figure size 432x288 with 1 Axes>"
      ]
     },
     "metadata": {
      "needs_background": "light"
     },
     "output_type": "display_data"
    }
   ],
   "source": [
    "k_range = range(1,41)\n",
    "# we will create one empty for appending the k scores\n",
    "k_scores = []\n",
    "# for iterating through different k values in model we will use for loop and after iterating through each and every value the average accuracy we will be getting as a result\n",
    "\n",
    "for k in k_range:\n",
    "    knn = KNeighborsClassifier(n_neighbors = k)\n",
    "    scores = cross_val_score(knn, x,y, cv = 5)          # By default it will consider 5 number of folds\n",
    "    k_scores.append(scores.mean())\n",
    "    \n",
    "plt.plot(k_range, k_scores)\n",
    "plt.xlabel(\"values of K\")\n",
    "plt.ylabel(\"Cross validated accuracy\")"
   ]
  },
  {
   "cell_type": "code",
   "execution_count": null,
   "id": "3e07d18e",
   "metadata": {},
   "outputs": [],
   "source": []
  }
 ],
 "metadata": {
  "kernelspec": {
   "display_name": "Python 3",
   "language": "python",
   "name": "python3"
  },
  "language_info": {
   "codemirror_mode": {
    "name": "ipython",
    "version": 3
   },
   "file_extension": ".py",
   "mimetype": "text/x-python",
   "name": "python",
   "nbconvert_exporter": "python",
   "pygments_lexer": "ipython3",
   "version": "3.8.8"
  },
  "toc": {
   "base_numbering": 1,
   "nav_menu": {},
   "number_sections": true,
   "sideBar": true,
   "skip_h1_title": false,
   "title_cell": "Table of Contents",
   "title_sidebar": "Contents",
   "toc_cell": false,
   "toc_position": {},
   "toc_section_display": true,
   "toc_window_display": false
  }
 },
 "nbformat": 4,
 "nbformat_minor": 5
}
